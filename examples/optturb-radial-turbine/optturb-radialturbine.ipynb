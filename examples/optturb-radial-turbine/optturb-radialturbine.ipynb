{
  "cells": [
    {
      "cell_type": "markdown",
      "metadata": {
        "id": "iM-PVQj_x9PM"
      },
      "source": [
        "# OptTurb-Radial Turbine\n",
        "This is an example where there is no spreadsheet comparing it to a meanline code. It is a simple whatif we tried designing a radial turbine assuming a fixed pressure loss and inlet and exit flow angles. "
      ]
    },
    {
      "cell_type": "code",
      "execution_count": null,
      "metadata": {
        "colab": {
          "base_uri": "https://localhost:8080/"
        },
        "id": "7eFdi6H6x9PN",
        "outputId": "bd3567a5-fd16-4cb7-d8b8-86ff847a4b0b"
      },
      "outputs": [],
      "source": [
        "# Installing the package\n",
        "# !pip install turbo-design\n",
        "import os, sys \n",
        "sys.path.insert(0, '../../')"
      ]
    },
    {
      "cell_type": "code",
      "execution_count": 6,
      "metadata": {
        "id": "nHzIUxdLx9PO"
      },
      "outputs": [],
      "source": [
        "from turbodesign import PassageType\n",
        "from turbodesign import TurbineSpool, Inlet, RowType, BladeRow, Passage, Outlet\n",
        "from turbodesign.enums import MassflowConstraint\n",
        "from turbodesign.coolant import Coolant\n",
        "from turbodesign.loss.turbine import FixedPressureLoss\n",
        "from pyturbo.helper import bezier\n",
        "import numpy as np \n",
        "from cantera import Solution\n",
        "from scipy.optimize import minimize_scalar\n",
        "from scipy.interpolate import pchip\n",
        "import matplotlib.pyplot as plt"
      ]
    },
    {
      "cell_type": "code",
      "execution_count": 12,
      "metadata": {
        "colab": {
          "base_uri": "https://localhost:8080/"
        },
        "id": "G5nL7ix-x9PO",
        "outputId": "31bd0975-6d90-494b-9360-89bad390f794"
      },
      "outputs": [
        {
          "name": "stdout",
          "output_type": "stream",
          "text": [
            "Coefficient of Pressure [J/Kg] 1066.8767\n"
          ]
        }
      ],
      "source": [
        "#%% Define the Passage \n",
        "# Shroud is defined using a thickness offset from the hub to construct a spline\n",
        "rhub_ctrl_pts = [0.12,0.10,0.085,\n",
        "                 0.06,0.04,\n",
        "                 0.0235, 0.0235,0.0235]\n",
        "\n",
        "xhub_ctrl_pts = [0.0, 0.0, 0.0,\n",
        "                 0.02,0.05,\n",
        "                 0.08,0.12,0.13]\n",
        "\n",
        "dr = [0.008, 0.008, 0.008, \n",
        "      0.015, 0.02,\n",
        "      0.025,0.025,0.025]\n",
        "t = [0, 0.1, 0.2,\n",
        "     0.4, 0.6,\n",
        "     0.92, 0.98, 1.0]\n",
        "\n",
        "hub = bezier(xhub_ctrl_pts,rhub_ctrl_pts)\n",
        "shroud_dh = bezier(t,dr)\n",
        "\n",
        "def r2(x:float,x1:float,r1:float,slope:float):\n",
        "    return slope*(x-x1)+r1\n",
        "\n",
        "def dh_error(x2:float,x1:float,r1:float,dx:float,dr:float,h:float):\n",
        "    slope = -dx/dr\n",
        "    r2_guess = r2(x2,x1,r1,slope)\n",
        "    return np.abs(h-np.sqrt((x1-x2)**2+(r1-r2_guess)**2))\n",
        "\n",
        "# Build Shroud\n",
        "npts = 30\n",
        "xhub,rhub = hub.get_point(np.linspace(0,1,npts))\n",
        "dx_pts = np.gradient(xhub, np.linspace(0,1,npts))\n",
        "dr_pts = np.gradient(rhub, np.linspace(0,1,npts))\n",
        "_, h_pts = shroud_dh.get_point(np.linspace(0,1,npts))\n",
        "xshroud = xhub*0\n",
        "rshroud = xhub*0; i = 0\n",
        "for dx,dr,x1,r1,h in zip(dx_pts,dr_pts,xhub,rhub,h_pts): \n",
        "    if abs(dx/dr) >20:\n",
        "        xshroud[i] = x1\n",
        "        rshroud[i] = r1+h\n",
        "    else:\n",
        "        res = minimize_scalar(dh_error,bounds=[x1,x1+1.5*h],args=(x1,r1,dx,dr,h))\n",
        "        if r2(res.x,x1,r1,-dx/dr)<r1:\n",
        "            res = minimize_scalar(dh_error,bounds=[x1-1.5*h,x1],args=(x1,r1,dx,dr,h))\n",
        "        \n",
        "        xshroud[i] = res.x\n",
        "        rshroud[i] = r2(xshroud[i],x1,r1,-dx/dr)\n",
        "        h_check = np.sqrt((x1-xshroud[i])**2+(r1-rshroud[i])**2)\n",
        "        # print(f\"h = {h} h_check = {h_check}\")\n",
        "        \n",
        "    i+=1"
      ]
    },
    {
      "cell_type": "code",
      "execution_count": null,
      "metadata": {},
      "outputs": [],
      "source": [
        "# Plot the hub and shroud\n",
        "plt.figure(num=1,clear=True)\n",
        "plt.plot(xhub,rhub)\n",
        "plt.plot(xshroud,rshroud,'.')\n",
        "plt.axis('scaled')\n",
        "plt.show()"
      ]
    },
    {
      "cell_type": "code",
      "execution_count": null,
      "metadata": {},
      "outputs": [],
      "source": [
        "passage = Passage(xhub,rhub,\n",
        "                 xshroud,rshroud,\n",
        "                 passageType=PassageType.Centrifugal)"
      ]
    },
    {
      "cell_type": "code",
      "execution_count": null,
      "metadata": {},
      "outputs": [],
      "source": [
        "passage.plot_cuts([0,1])\n",
        "passage.plot_cuts([0,0.3,0.5,1])"
      ]
    },
    {
      "cell_type": "markdown",
      "metadata": {},
      "source": [
        "Lets add in the design conditions"
      ]
    },
    {
      "cell_type": "code",
      "execution_count": 13,
      "metadata": {
        "id": "HpyuuCwpx9PP"
      },
      "outputs": [],
      "source": [
        "#%% Design Conditions \n",
        "Design_RPM = 60000\n",
        "massflow = 0.5 #    # Guessed massflow [kg/s], doesn't matter because code will adjust to match the massflow defined by P0_P \n",
        "P0_P = 2            # Total to static Pressure ratio for the entire row\n",
        "P = 101325          # Outlet Static Pressure [Pascal]\n",
        "P0 = P * P0_P\n",
        "T0 = 1000           # Kelvin"
      ]
    },
    {
      "cell_type": "code",
      "execution_count": 14,
      "metadata": {
        "id": "BtwfuCeTx9PP"
      },
      "outputs": [],
      "source": [
        "# Fluid\n",
        "fluid = Solution('air.yaml')\n",
        "fluid.TP = T0, P0 # Use pascal for cantera\n",
        "print(f\"Coefficient of Pressure [J/Kg] {fluid.cp:0.4f}\")"
      ]
    },
    {
      "cell_type": "code",
      "execution_count": null,
      "metadata": {
        "colab": {
          "base_uri": "https://localhost:8080/",
          "height": 1000
        },
        "id": "HfWWMYV4x9PP",
        "outputId": "7c7748f1-d00b-4688-ae23-d00f25f16a8b"
      },
      "outputs": [],
      "source": [
        "#%% Defining the Inlet\n",
        "inlet = Inlet(M=0.1, \n",
        "                 P0=[P0],\n",
        "                 T0=[T0], \n",
        "                 beta=[0], \n",
        "                 fluid=fluid, \n",
        "                 percent_radii=0.5,\n",
        "                 axial_location=0)\n",
        "outlet = Outlet(P=P,percent_radii=0.5,num_streamlines=3)\n",
        "\n",
        "stator0 = BladeRow(row_type=RowType.Stator, axial_location=0.0)\n",
        "rotor100 = BladeRow(row_type=RowType.Rotor, axial_location=1.00)\n",
        "\n",
        "stator0.coolant = Coolant(fluid, T0=T0*0.555556,P0=5E5,massflow_percentage=0) \n",
        "rotor100.coolant = Coolant(fluid, T0=T0*0.555556,P0=5E5,massflow_percentage=0)\n",
        "\n",
        "# Add in turning angles\n",
        "stator0.beta2_metal = [60,60,60] # Angle, hub,mean,tip\n",
        "stator0.loss_model = FixedPressureLoss(0.0)\n",
        "\n",
        "rotor100.beta2_metal = [-55,-55,-55] # Angle, hub,mean,tip\n",
        "rotor100.loss_model = FixedPressureLoss(0.2)\n",
        "\n",
        "#%% Initialize the Spool\n",
        "spool = TurbineSpool(passage=passage,\n",
        "            rpm=Design_RPM, \n",
        "            num_streamlines=3, \n",
        "            massflow=massflow,\n",
        "            rows=[inlet,stator0,rotor100,outlet])\n",
        "\n",
        "\n",
        "spool.fluid = fluid\n",
        "spool.massflow_constraint = MassflowConstraint.BalanceMassFlow"
      ]
    },
    {
      "cell_type": "code",
      "execution_count": null,
      "metadata": {},
      "outputs": [],
      "source": [
        "spool.solve() # This also initializes streamlines\n",
        "spool.export_properties(\"optturb.json\")\n",
        "spool.plot()\n",
        "spool.plot_velocity_triangles()"
      ]
    }
  ],
  "metadata": {
    "colab": {
      "provenance": []
    },
    "kernelspec": {
      "display_name": "Python 3",
      "name": "python3"
    },
    "language_info": {
      "name": "python"
    }
  },
  "nbformat": 4,
  "nbformat_minor": 0
}
